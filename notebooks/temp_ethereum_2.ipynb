{
 "cells": [
  {
   "cell_type": "code",
   "execution_count": 1,
   "id": "9b094b69",
   "metadata": {},
   "outputs": [],
   "source": [
    "import pandas as pd"
   ]
  },
  {
   "cell_type": "markdown",
   "id": "9c328ba5",
   "metadata": {},
   "source": [
    "---"
   ]
  },
  {
   "cell_type": "code",
   "execution_count": 5,
   "id": "ef2439a2",
   "metadata": {},
   "outputs": [],
   "source": [
    "data_101 = pd.read_csv('D:\\ethereum_blocks_data\\data (101).csv', low_memory = False)\n",
    "data_102 = pd.read_csv('D:\\ethereum_blocks_data\\data (102).csv', low_memory = False)\n",
    "data_103 = pd.read_csv('D:\\ethereum_blocks_data\\data (103).csv', low_memory = False)\n",
    "data_104 = pd.read_csv('D:\\ethereum_blocks_data\\data (104).csv', low_memory = False)\n",
    "data_105 = pd.read_csv('D:\\ethereum_blocks_data\\data (105).csv', low_memory = False)\n",
    "data_106 = pd.read_csv('D:\\ethereum_blocks_data\\data (106).csv', low_memory = False)\n",
    "data_107 = pd.read_csv('D:\\ethereum_blocks_data\\data (107).csv', low_memory = False)\n",
    "data_108 = pd.read_csv('D:\\ethereum_blocks_data\\data (108).csv', low_memory = False)\n",
    "data_109 = pd.read_csv('D:\\ethereum_blocks_data\\data (109).csv', low_memory = False)\n",
    "data_110 = pd.read_csv('D:\\ethereum_blocks_data\\data (110).csv', low_memory = False)"
   ]
  },
  {
   "cell_type": "code",
   "execution_count": 6,
   "id": "46ef1df7",
   "metadata": {},
   "outputs": [],
   "source": [
    "data_111 = pd.read_csv('D:\\ethereum_blocks_data\\data (111).csv', low_memory = False)\n",
    "data_112 = pd.read_csv('D:\\ethereum_blocks_data\\data (112).csv', low_memory = False)\n",
    "data_113 = pd.read_csv('D:\\ethereum_blocks_data\\data (113).csv', low_memory = False)\n",
    "data_114 = pd.read_csv('D:\\ethereum_blocks_data\\data (114).csv', low_memory = False)\n",
    "data_115 = pd.read_csv('D:\\ethereum_blocks_data\\data (115).csv', low_memory = False)\n",
    "data_116 = pd.read_csv('D:\\ethereum_blocks_data\\data (116).csv', low_memory = False)\n",
    "data_117 = pd.read_csv('D:\\ethereum_blocks_data\\data (117).csv', low_memory = False)\n",
    "data_118 = pd.read_csv('D:\\ethereum_blocks_data\\data (118).csv', low_memory = False)\n",
    "data_119 = pd.read_csv('D:\\ethereum_blocks_data\\data (119).csv', low_memory = False)\n",
    "data_120 = pd.read_csv('D:\\ethereum_blocks_data\\data (120).csv', low_memory = False)"
   ]
  },
  {
   "cell_type": "code",
   "execution_count": 7,
   "id": "2baedc97",
   "metadata": {},
   "outputs": [],
   "source": [
    "data_121 = pd.read_csv('D:\\ethereum_blocks_data\\data (121).csv', low_memory = False)\n",
    "data_122 = pd.read_csv('D:\\ethereum_blocks_data\\data (122).csv', low_memory = False)\n",
    "data_123 = pd.read_csv('D:\\ethereum_blocks_data\\data (123).csv', low_memory = False)\n",
    "data_124 = pd.read_csv('D:\\ethereum_blocks_data\\data (124).csv', low_memory = False)\n",
    "data_125 = pd.read_csv('D:\\ethereum_blocks_data\\data (125).csv', low_memory = False)\n",
    "data_126 = pd.read_csv('D:\\ethereum_blocks_data\\data (126).csv', low_memory = False)\n",
    "data_127 = pd.read_csv('D:\\ethereum_blocks_data\\data (127).csv', low_memory = False)\n",
    "data_128 = pd.read_csv('D:\\ethereum_blocks_data\\data (128).csv', low_memory = False)\n",
    "data_129 = pd.read_csv('D:\\ethereum_blocks_data\\data (129).csv', low_memory = False)\n",
    "data_130 = pd.read_csv('D:\\ethereum_blocks_data\\data (130).csv', low_memory = False)"
   ]
  },
  {
   "cell_type": "code",
   "execution_count": 8,
   "id": "dbd08586",
   "metadata": {},
   "outputs": [],
   "source": [
    "data_131 = pd.read_csv('D:\\ethereum_blocks_data\\data (131).csv', low_memory = False)\n",
    "data_132 = pd.read_csv('D:\\ethereum_blocks_data\\data (132).csv', low_memory = False)\n",
    "data_133 = pd.read_csv('D:\\ethereum_blocks_data\\data (133).csv', low_memory = False)\n",
    "data_134 = pd.read_csv('D:\\ethereum_blocks_data\\data (134).csv', low_memory = False)\n",
    "data_135 = pd.read_csv('D:\\ethereum_blocks_data\\data (135).csv', low_memory = False)\n",
    "data_136 = pd.read_csv('D:\\ethereum_blocks_data\\data (136).csv', low_memory = False)\n",
    "data_137 = pd.read_csv('D:\\ethereum_blocks_data\\data (137).csv', low_memory = False)\n",
    "data_138 = pd.read_csv('D:\\ethereum_blocks_data\\data (138).csv', low_memory = False)\n",
    "data_139 = pd.read_csv('D:\\ethereum_blocks_data\\data (139).csv', low_memory = False)\n",
    "data_140 = pd.read_csv('D:\\ethereum_blocks_data\\data (140).csv', low_memory = False)"
   ]
  },
  {
   "cell_type": "code",
   "execution_count": 9,
   "id": "c82e3aba",
   "metadata": {},
   "outputs": [],
   "source": [
    "data_141 = pd.read_csv('D:\\ethereum_blocks_data\\data (141).csv', low_memory = False)\n",
    "data_142 = pd.read_csv('D:\\ethereum_blocks_data\\data (142).csv', low_memory = False)\n",
    "data_143 = pd.read_csv('D:\\ethereum_blocks_data\\data (143).csv', low_memory = False)\n",
    "data_144 = pd.read_csv('D:\\ethereum_blocks_data\\data (144).csv', low_memory = False)\n",
    "data_145 = pd.read_csv('D:\\ethereum_blocks_data\\data (145).csv', low_memory = False)\n",
    "data_146 = pd.read_csv('D:\\ethereum_blocks_data\\data (146).csv', low_memory = False)\n",
    "data_147 = pd.read_csv('D:\\ethereum_blocks_data\\data (147).csv', low_memory = False)\n",
    "data_148 = pd.read_csv('D:\\ethereum_blocks_data\\data (148).csv', low_memory = False)\n",
    "data_149 = pd.read_csv('D:\\ethereum_blocks_data\\data (149).csv', low_memory = False)\n",
    "data_150 = pd.read_csv('D:\\ethereum_blocks_data\\data (150).csv', low_memory = False)"
   ]
  },
  {
   "cell_type": "code",
   "execution_count": 10,
   "id": "cb19c6e2",
   "metadata": {},
   "outputs": [],
   "source": [
    "data_151 = pd.read_csv('D:\\ethereum_blocks_data\\data (151).csv', low_memory = False)\n",
    "data_152 = pd.read_csv('D:\\ethereum_blocks_data\\data (152).csv', low_memory = False)\n",
    "data_153 = pd.read_csv('D:\\ethereum_blocks_data\\data (153).csv', low_memory = False)\n",
    "data_154 = pd.read_csv('D:\\ethereum_blocks_data\\data (154).csv', low_memory = False)\n",
    "data_155 = pd.read_csv('D:\\ethereum_blocks_data\\data (155).csv', low_memory = False)\n",
    "data_156 = pd.read_csv('D:\\ethereum_blocks_data\\data (156).csv', low_memory = False)\n",
    "data_157 = pd.read_csv('D:\\ethereum_blocks_data\\data (157).csv', low_memory = False)\n",
    "data_158 = pd.read_csv('D:\\ethereum_blocks_data\\data (158).csv', low_memory = False)\n",
    "data_159 = pd.read_csv('D:\\ethereum_blocks_data\\data (159).csv', low_memory = False)\n",
    "data_160 = pd.read_csv('D:\\ethereum_blocks_data\\data (160).csv', low_memory = False)"
   ]
  },
  {
   "cell_type": "code",
   "execution_count": 11,
   "id": "50996f7f",
   "metadata": {},
   "outputs": [],
   "source": [
    "data_161 = pd.read_csv('D:\\ethereum_blocks_data\\data (161).csv', low_memory = False)\n",
    "data_162 = pd.read_csv('D:\\ethereum_blocks_data\\data (162).csv', low_memory = False)\n",
    "data_163 = pd.read_csv('D:\\ethereum_blocks_data\\data (163).csv', low_memory = False)\n",
    "data_164 = pd.read_csv('D:\\ethereum_blocks_data\\data (164).csv', low_memory = False)\n",
    "data_165 = pd.read_csv('D:\\ethereum_blocks_data\\data (165).csv', low_memory = False)\n",
    "data_166 = pd.read_csv('D:\\ethereum_blocks_data\\data (166).csv', low_memory = False)\n",
    "data_167 = pd.read_csv('D:\\ethereum_blocks_data\\data (167).csv', low_memory = False)\n",
    "data_168 = pd.read_csv('D:\\ethereum_blocks_data\\data (168).csv', low_memory = False)\n",
    "data_169 = pd.read_csv('D:\\ethereum_blocks_data\\data (169).csv', low_memory = False)\n",
    "data_170 = pd.read_csv('D:\\ethereum_blocks_data\\data (170).csv', low_memory = False)"
   ]
  },
  {
   "cell_type": "code",
   "execution_count": 12,
   "id": "ca489400",
   "metadata": {},
   "outputs": [],
   "source": [
    "data_171 = pd.read_csv('D:\\ethereum_blocks_data\\data (171).csv', low_memory = False)\n",
    "data_172 = pd.read_csv('D:\\ethereum_blocks_data\\data (172).csv', low_memory = False)\n",
    "data_173 = pd.read_csv('D:\\ethereum_blocks_data\\data (173).csv', low_memory = False)\n",
    "data_174 = pd.read_csv('D:\\ethereum_blocks_data\\data (174).csv', low_memory = False)\n",
    "data_175 = pd.read_csv('D:\\ethereum_blocks_data\\data (175).csv', low_memory = False)\n",
    "data_176 = pd.read_csv('D:\\ethereum_blocks_data\\data (176).csv', low_memory = False)\n",
    "data_177 = pd.read_csv('D:\\ethereum_blocks_data\\data (177).csv', low_memory = False)\n",
    "data_178 = pd.read_csv('D:\\ethereum_blocks_data\\data (178).csv', low_memory = False)\n",
    "data_179 = pd.read_csv('D:\\ethereum_blocks_data\\data (179).csv', low_memory = False)\n",
    "data_180 = pd.read_csv('D:\\ethereum_blocks_data\\data (180).csv', low_memory = False)"
   ]
  },
  {
   "cell_type": "code",
   "execution_count": 13,
   "id": "194e5329",
   "metadata": {},
   "outputs": [],
   "source": [
    "data_181 = pd.read_csv('D:\\ethereum_blocks_data\\data (181).csv', low_memory = False)\n",
    "data_182 = pd.read_csv('D:\\ethereum_blocks_data\\data (182).csv', low_memory = False)"
   ]
  },
  {
   "cell_type": "code",
   "execution_count": 14,
   "id": "8d1f6856",
   "metadata": {},
   "outputs": [],
   "source": [
    "data_temp_2 = pd.concat([data_101, data_102, data_103, data_104, data_105, data_106, data_107, data_108, data_109,\n",
    "                       data_110, data_111, data_112, data_113, data_114, data_115, data_116, data_117, data_118, data_119,\n",
    "                       data_120, data_121, data_122, data_123, data_124, data_125, data_126, data_127, data_128, data_129,\n",
    "                       data_130, data_131, data_132, data_133, data_134, data_135, data_136, data_137, data_138, data_139,\n",
    "                       data_140, data_141, data_142, data_143, data_144, data_145, data_146, data_147, data_148, data_149,\n",
    "                       data_150, data_151, data_152, data_153, data_154, data_155, data_156, data_157, data_158, data_159,\n",
    "                       data_160, data_161, data_162, data_163, data_164, data_165, data_166, data_167, data_168, data_169,\n",
    "                       data_170, data_171, data_172, data_173, data_174, data_175, data_176, data_177, data_178, data_179,\n",
    "                       data_180, data_181, data_182])"
   ]
  },
  {
   "cell_type": "code",
   "execution_count": 15,
   "id": "c2d59b85",
   "metadata": {},
   "outputs": [],
   "source": [
    "data_temp_2.to_csv(r'D:\\temp2.csv')"
   ]
  }
 ],
 "metadata": {
  "kernelspec": {
   "display_name": "Python 3 (ipykernel)",
   "language": "python",
   "name": "python3"
  },
  "language_info": {
   "codemirror_mode": {
    "name": "ipython",
    "version": 3
   },
   "file_extension": ".py",
   "mimetype": "text/x-python",
   "name": "python",
   "nbconvert_exporter": "python",
   "pygments_lexer": "ipython3",
   "version": "3.9.12"
  }
 },
 "nbformat": 4,
 "nbformat_minor": 5
}
