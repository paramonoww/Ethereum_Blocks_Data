{
 "cells": [
  {
   "cell_type": "code",
   "execution_count": 1,
   "id": "9003c1e7",
   "metadata": {},
   "outputs": [],
   "source": [
    "import pandas as pd"
   ]
  },
  {
   "cell_type": "markdown",
   "id": "e86b2059",
   "metadata": {},
   "source": [
    "---"
   ]
  },
  {
   "cell_type": "code",
   "execution_count": 31,
   "id": "17dba854",
   "metadata": {},
   "outputs": [],
   "source": [
    "data_0 = pd.read_csv('download-query_run_results.csv', low_memory = False)\n",
    "data_1 = pd.read_csv('download-query_run_results (1).csv', low_memory = False)\n",
    "data_2 = pd.read_csv('download-query_run_results (2).csv', low_memory = False)\n",
    "data_3 = pd.read_csv('download-query_run_results (3).csv', low_memory = False)\n",
    "data_4 = pd.read_csv('download-query_run_results (4).csv', low_memory = False)\n",
    "data_5 = pd.read_csv('download-query_run_results (5).csv', low_memory = False)\n",
    "data_6 = pd.read_csv('download-query_run_results (6).csv', low_memory = False)\n",
    "data_7 = pd.read_csv('download-query_run_results (7).csv', low_memory = False)\n",
    "data_8 = pd.read_csv('download-query_run_results (8).csv', low_memory = False)\n",
    "data_9 = pd.read_csv('download-query_run_results (9).csv', low_memory = False)"
   ]
  },
  {
   "cell_type": "code",
   "execution_count": 32,
   "id": "2f8922eb",
   "metadata": {},
   "outputs": [],
   "source": [
    "data_10 = pd.read_csv('download-query_run_results (10).csv', low_memory = False)\n",
    "data_11 = pd.read_csv('download-query_run_results (11).csv', low_memory = False)\n",
    "data_12 = pd.read_csv('download-query_run_results (12).csv', low_memory = False)\n",
    "data_13 = pd.read_csv('download-query_run_results (13).csv', low_memory = False)\n",
    "data_14 = pd.read_csv('download-query_run_results (14).csv', low_memory = False)\n",
    "data_15 = pd.read_csv('download-query_run_results (15).csv', low_memory = False)\n",
    "data_16 = pd.read_csv('download-query_run_results (16).csv', low_memory = False)\n",
    "data_17 = pd.read_csv('download-query_run_results (17).csv', low_memory = False)\n",
    "data_18 = pd.read_csv('download-query_run_results (18).csv', low_memory = False)\n",
    "data_19 = pd.read_csv('download-query_run_results (19).csv', low_memory = False)"
   ]
  },
  {
   "cell_type": "code",
   "execution_count": 33,
   "id": "0050c285",
   "metadata": {},
   "outputs": [],
   "source": [
    "data_20 = pd.read_csv('download-query_run_results (20).csv', low_memory = False)\n",
    "data_21 = pd.read_csv('download-query_run_results (21).csv', low_memory = False)\n",
    "data_22 = pd.read_csv('download-query_run_results (22).csv', low_memory = False)\n",
    "data_23 = pd.read_csv('download-query_run_results (23).csv', low_memory = False)\n",
    "data_24 = pd.read_csv('download-query_run_results (24).csv', low_memory = False)\n",
    "data_25 = pd.read_csv('download-query_run_results (25).csv', low_memory = False)\n",
    "data_26 = pd.read_csv('download-query_run_results (26).csv', low_memory = False)\n",
    "data_27 = pd.read_csv('download-query_run_results (27).csv', low_memory = False)\n",
    "data_28 = pd.read_csv('download-query_run_results (28).csv', low_memory = False)\n",
    "data_29 = pd.read_csv('download-query_run_results (29).csv', low_memory = False)"
   ]
  },
  {
   "cell_type": "code",
   "execution_count": 34,
   "id": "38f07d2c",
   "metadata": {},
   "outputs": [],
   "source": [
    "data_30 = pd.read_csv('download-query_run_results (30).csv', low_memory = False)\n",
    "data_31 = pd.read_csv('download-query_run_results (31).csv', low_memory = False)\n",
    "data_32 = pd.read_csv('download-query_run_results (32).csv', low_memory = False)\n",
    "data_33 = pd.read_csv('download-query_run_results (33).csv', low_memory = False)\n",
    "data_34 = pd.read_csv('download-query_run_results (34).csv', low_memory = False)\n",
    "data_35 = pd.read_csv('download-query_run_results (35).csv', low_memory = False)\n",
    "data_36 = pd.read_csv('download-query_run_results (36).csv', low_memory = False)\n",
    "data_37 = pd.read_csv('download-query_run_results (37).csv', low_memory = False)\n",
    "data_38 = pd.read_csv('download-query_run_results (38).csv', low_memory = False)\n",
    "data_39 = pd.read_csv('download-query_run_results (39).csv', low_memory = False)"
   ]
  },
  {
   "cell_type": "code",
   "execution_count": 35,
   "id": "8f9c7c0e",
   "metadata": {},
   "outputs": [],
   "source": [
    "data_40 = pd.read_csv('download-query_run_results (40).csv', low_memory = False)\n",
    "data_41 = pd.read_csv('download-query_run_results (41).csv', low_memory = False)\n",
    "data_42 = pd.read_csv('download-query_run_results (42).csv', low_memory = False)\n",
    "data_43 = pd.read_csv('download-query_run_results (43).csv', low_memory = False)\n",
    "data_44 = pd.read_csv('download-query_run_results (44).csv', low_memory = False)\n",
    "data_45 = pd.read_csv('download-query_run_results (45).csv', low_memory = False)\n",
    "data_46 = pd.read_csv('download-query_run_results (46).csv', low_memory = False)\n",
    "data_47 = pd.read_csv('download-query_run_results (47).csv', low_memory = False)\n",
    "data_48 = pd.read_csv('download-query_run_results (48).csv', low_memory = False)\n",
    "data_49 = pd.read_csv('download-query_run_results (49).csv', low_memory = False)"
   ]
  },
  {
   "cell_type": "code",
   "execution_count": 36,
   "id": "af0236da",
   "metadata": {},
   "outputs": [],
   "source": [
    "data_50 = pd.read_csv('download-query_run_results (50).csv', low_memory = False)\n",
    "data_51 = pd.read_csv('download-query_run_results (51).csv', low_memory = False)\n",
    "data_52 = pd.read_csv('download-query_run_results (52).csv', low_memory = False)\n",
    "data_53 = pd.read_csv('download-query_run_results (53).csv', low_memory = False)\n",
    "data_54 = pd.read_csv('download-query_run_results (54).csv', low_memory = False)\n",
    "data_55 = pd.read_csv('download-query_run_results (55).csv', low_memory = False)\n",
    "data_56 = pd.read_csv('download-query_run_results (56).csv', low_memory = False)\n",
    "data_57 = pd.read_csv('download-query_run_results (57).csv', low_memory = False)\n",
    "data_58 = pd.read_csv('download-query_run_results (58).csv', low_memory = False)\n",
    "data_59 = pd.read_csv('download-query_run_results (59).csv', low_memory = False)"
   ]
  },
  {
   "cell_type": "code",
   "execution_count": 37,
   "id": "f932b215",
   "metadata": {},
   "outputs": [],
   "source": [
    "data_60 = pd.read_csv('download-query_run_results (60).csv', low_memory = False)\n",
    "data_61 = pd.read_csv('download-query_run_results (61).csv', low_memory = False)\n",
    "data_62 = pd.read_csv('download-query_run_results (62).csv', low_memory = False)\n",
    "data_63 = pd.read_csv('download-query_run_results (63).csv', low_memory = False)\n",
    "data_64 = pd.read_csv('download-query_run_results (64).csv', low_memory = False)\n",
    "data_65 = pd.read_csv('download-query_run_results (65).csv', low_memory = False)\n",
    "data_66 = pd.read_csv('download-query_run_results (66).csv', low_memory = False)\n",
    "data_67 = pd.read_csv('download-query_run_results (67).csv', low_memory = False)\n",
    "data_68 = pd.read_csv('download-query_run_results (68).csv', low_memory = False)\n",
    "data_69 = pd.read_csv('download-query_run_results (69).csv', low_memory = False)"
   ]
  },
  {
   "cell_type": "code",
   "execution_count": 38,
   "id": "2827a580",
   "metadata": {},
   "outputs": [],
   "source": [
    "data_70 = pd.read_csv('download-query_run_results (70).csv', low_memory = False)\n",
    "data_71 = pd.read_csv('download-query_run_results (71).csv', low_memory = False)\n",
    "data_72 = pd.read_csv('download-query_run_results (72).csv', low_memory = False)\n",
    "data_73 = pd.read_csv('download-query_run_results (73).csv', low_memory = False)\n",
    "data_74 = pd.read_csv('download-query_run_results (74).csv', low_memory = False)\n",
    "data_75 = pd.read_csv('download-query_run_results (75).csv', low_memory = False)\n",
    "data_76 = pd.read_csv('download-query_run_results (76).csv', low_memory = False)\n",
    "data_77 = pd.read_csv('download-query_run_results (77).csv', low_memory = False)\n",
    "data_78 = pd.read_csv('download-query_run_results (78).csv', low_memory = False)\n",
    "data_79 = pd.read_csv('download-query_run_results (79).csv', low_memory = False)"
   ]
  },
  {
   "cell_type": "code",
   "execution_count": 39,
   "id": "c5b86a92",
   "metadata": {},
   "outputs": [],
   "source": [
    "data_80 = pd.read_csv('download-query_run_results (80).csv', low_memory = False)\n",
    "data_81 = pd.read_csv('download-query_run_results (81).csv', low_memory = False)\n",
    "data_82 = pd.read_csv('download-query_run_results (82).csv', low_memory = False)\n",
    "data_83 = pd.read_csv('download-query_run_results (83).csv', low_memory = False)\n",
    "data_84 = pd.read_csv('download-query_run_results (84).csv', low_memory = False)\n",
    "data_85 = pd.read_csv('download-query_run_results (85).csv', low_memory = False)\n",
    "data_86 = pd.read_csv('download-query_run_results (86).csv', low_memory = False)\n",
    "data_87 = pd.read_csv('download-query_run_results (87).csv', low_memory = False)\n",
    "data_88 = pd.read_csv('download-query_run_results (88).csv', low_memory = False)\n",
    "data_89 = pd.read_csv('download-query_run_results (89).csv', low_memory = False)"
   ]
  },
  {
   "cell_type": "code",
   "execution_count": 40,
   "id": "0934d613",
   "metadata": {},
   "outputs": [],
   "source": [
    "data_90 = pd.read_csv('download-query_run_results (90).csv', low_memory = False)\n",
    "data_91 = pd.read_csv('download-query_run_results (91).csv', low_memory = False)\n",
    "data_92 = pd.read_csv('download-query_run_results (92).csv', low_memory = False)\n",
    "data_93 = pd.read_csv('download-query_run_results (93).csv', low_memory = False)\n",
    "data_94 = pd.read_csv('download-query_run_results (94).csv', low_memory = False)\n",
    "data_95 = pd.read_csv('download-query_run_results (95).csv', low_memory = False)\n",
    "data_96 = pd.read_csv('download-query_run_results (96).csv', low_memory = False)\n",
    "data_97 = pd.read_csv('download-query_run_results (97).csv', low_memory = False)\n",
    "data_98 = pd.read_csv('download-query_run_results (98).csv', low_memory = False)\n",
    "data_99 = pd.read_csv('download-query_run_results (99).csv', low_memory = False)\n",
    "data_100 = pd.read_csv('download-query_run_results (100).csv', low_memory = False)"
   ]
  },
  {
   "cell_type": "code",
   "execution_count": 41,
   "id": "8b065851",
   "metadata": {},
   "outputs": [],
   "source": [
    "data_temp_1 = pd.concat([data_0, data_1, data_2, data_3, data_4, data_5, data_6, data_7, data_8, data_9,\n",
    "                       data_10, data_11, data_12, data_13, data_14, data_15, data_16, data_17, data_18, data_19,\n",
    "                       data_20, data_21, data_22, data_23, data_24, data_25, data_26, data_27, data_28, data_29,\n",
    "                       data_30, data_31, data_32, data_33, data_34, data_35, data_36, data_37, data_38, data_39,\n",
    "                       data_40, data_41, data_42, data_43, data_44, data_45, data_46, data_47, data_48, data_49,\n",
    "                       data_50, data_51, data_52, data_53, data_54, data_55, data_56, data_57, data_58, data_59,\n",
    "                       data_60, data_61, data_62, data_63, data_64, data_65, data_66, data_67, data_68, data_69,\n",
    "                       data_70, data_71, data_72, data_73, data_74, data_75, data_76, data_77, data_78, data_79,\n",
    "                       data_80, data_81, data_82, data_83, data_84, data_85, data_86, data_87, data_88, data_89,\n",
    "                       data_90, data_91, data_92, data_93, data_94, data_95, data_96, data_97, data_98, data_99, data_100])"
   ]
  },
  {
   "cell_type": "code",
   "execution_count": 47,
   "id": "f6bb1891",
   "metadata": {},
   "outputs": [],
   "source": [
    "data_temp_1.to_csv(r'D:\\temp1.csv')"
   ]
  }
 ],
 "metadata": {
  "kernelspec": {
   "display_name": "Python 3 (ipykernel)",
   "language": "python",
   "name": "python3"
  },
  "language_info": {
   "codemirror_mode": {
    "name": "ipython",
    "version": 3
   },
   "file_extension": ".py",
   "mimetype": "text/x-python",
   "name": "python",
   "nbconvert_exporter": "python",
   "pygments_lexer": "ipython3",
   "version": "3.9.12"
  }
 },
 "nbformat": 4,
 "nbformat_minor": 5
}
