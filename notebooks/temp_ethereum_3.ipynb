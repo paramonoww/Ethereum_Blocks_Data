{
 "cells": [
  {
   "cell_type": "code",
   "execution_count": 1,
   "id": "7e882397",
   "metadata": {},
   "outputs": [],
   "source": [
    "import pandas as pd"
   ]
  },
  {
   "cell_type": "markdown",
   "id": "82ba34ce",
   "metadata": {},
   "source": [
    "---"
   ]
  },
  {
   "cell_type": "code",
   "execution_count": 2,
   "id": "39502503",
   "metadata": {},
   "outputs": [],
   "source": [
    "temp1 = pd.read_csv(r'D:\\ethereum_blocks_data\\temp1.csv', low_memory = False)\n",
    "temp2 = pd.read_csv(r'D:\\ethereum_blocks_data\\final.csv', low_memory = False)"
   ]
  },
  {
   "cell_type": "code",
   "execution_count": 7,
   "id": "fc68d5d1",
   "metadata": {},
   "outputs": [],
   "source": [
    "final = pd.concat([temp1, temp2])"
   ]
  },
  {
   "cell_type": "code",
   "execution_count": 16,
   "id": "8b960e9c",
   "metadata": {},
   "outputs": [],
   "source": [
    "final.to_csv(r'D:\\final.csv')"
   ]
  }
 ],
 "metadata": {
  "kernelspec": {
   "display_name": "Python 3 (ipykernel)",
   "language": "python",
   "name": "python3"
  },
  "language_info": {
   "codemirror_mode": {
    "name": "ipython",
    "version": 3
   },
   "file_extension": ".py",
   "mimetype": "text/x-python",
   "name": "python",
   "nbconvert_exporter": "python",
   "pygments_lexer": "ipython3",
   "version": "3.9.12"
  }
 },
 "nbformat": 4,
 "nbformat_minor": 5
}
