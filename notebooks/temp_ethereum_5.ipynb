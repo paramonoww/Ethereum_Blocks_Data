{
 "cells": [
  {
   "cell_type": "code",
   "execution_count": 1,
   "id": "7c73194b",
   "metadata": {},
   "outputs": [],
   "source": [
    "import pandas as pd"
   ]
  },
  {
   "cell_type": "markdown",
   "id": "2531d379",
   "metadata": {},
   "source": [
    "---"
   ]
  },
  {
   "cell_type": "code",
   "execution_count": 2,
   "id": "acf474fe",
   "metadata": {},
   "outputs": [],
   "source": [
    "final = pd.read_csv(r'D:\\ethereum_blocks_data\\final_1.csv')"
   ]
  },
  {
   "cell_type": "code",
   "execution_count": 5,
   "id": "dfbc796c",
   "metadata": {},
   "outputs": [],
   "source": [
    "final = final.sort_values(by = 'block_number').reset_index(drop = True)"
   ]
  },
  {
   "cell_type": "code",
   "execution_count": 11,
   "id": "5a17c7b9",
   "metadata": {},
   "outputs": [],
   "source": [
    "final = final.drop(columns = ['Unnamed: 0', 'index']).drop_duplicates().reset_index(drop = True)"
   ]
  },
  {
   "cell_type": "code",
   "execution_count": 18,
   "id": "d4b17aeb",
   "metadata": {},
   "outputs": [],
   "source": [
    "blocks_2015 = final[final['block_timestamp'].str.startswith('2015')]\n",
    "blocks_2016 = final[final['block_timestamp'].str.startswith('2016')]\n",
    "blocks_2017 = final[final['block_timestamp'].str.startswith('2017')]\n",
    "blocks_2018 = final[final['block_timestamp'].str.startswith('2018')]\n",
    "blocks_2019 = final[final['block_timestamp'].str.startswith('2019')]\n",
    "blocks_2020 = final[final['block_timestamp'].str.startswith('2020')]\n",
    "blocks_2021 = final[final['block_timestamp'].str.startswith('2021')]\n",
    "blocks_2022 = final[final['block_timestamp'].str.startswith('2022')]\n",
    "blocks_2023 = final[final['block_timestamp'].str.startswith('2023')]"
   ]
  },
  {
   "cell_type": "code",
   "execution_count": 26,
   "id": "999a1c2b",
   "metadata": {},
   "outputs": [],
   "source": [
    "final.to_csv(r'D:\\blocks_all.csv')\n",
    "\n",
    "blocks_2015.to_csv(r'D:\\blocks_2015.csv')\n",
    "blocks_2016.to_csv(r'D:\\blocks_2016.csv')\n",
    "blocks_2017.to_csv(r'D:\\blocks_2017.csv')\n",
    "blocks_2018.to_csv(r'D:\\blocks_2018.csv')\n",
    "blocks_2019.to_csv(r'D:\\blocks_2019.csv')\n",
    "blocks_2020.to_csv(r'D:\\blocks_2020.csv')\n",
    "blocks_2021.to_csv(r'D:\\blocks_2021.csv')\n",
    "blocks_2022.to_csv(r'D:\\blocks_2022.csv')\n",
    "blocks_2023.to_csv(r'D:\\blocks_2023.csv')"
   ]
  }
 ],
 "metadata": {
  "kernelspec": {
   "display_name": "Python 3 (ipykernel)",
   "language": "python",
   "name": "python3"
  },
  "language_info": {
   "codemirror_mode": {
    "name": "ipython",
    "version": 3
   },
   "file_extension": ".py",
   "mimetype": "text/x-python",
   "name": "python",
   "nbconvert_exporter": "python",
   "pygments_lexer": "ipython3",
   "version": "3.9.12"
  }
 },
 "nbformat": 4,
 "nbformat_minor": 5
}
