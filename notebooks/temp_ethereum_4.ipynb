{
 "cells": [
  {
   "cell_type": "code",
   "execution_count": 33,
   "id": "f53dd108",
   "metadata": {},
   "outputs": [],
   "source": [
    "import pandas as pd\n",
    "import numpy as np"
   ]
  },
  {
   "cell_type": "markdown",
   "id": "1102203d",
   "metadata": {},
   "source": [
    "---"
   ]
  },
  {
   "cell_type": "code",
   "execution_count": 3,
   "id": "ca2c1d11",
   "metadata": {},
   "outputs": [
    {
     "name": "stderr",
     "output_type": "stream",
     "text": [
      "C:\\Users\\param\\AppData\\Local\\Temp\\ipykernel_11172\\437701404.py:1: FutureWarning: The error_bad_lines argument has been deprecated and will be removed in a future version. Use on_bad_lines in the future.\n",
      "\n",
      "\n",
      "  final = pd.read_csv(r'D:\\ethereum_blocks_data\\final.csv', error_bad_lines=False)\n",
      "C:\\Users\\param\\AppData\\Local\\Temp\\ipykernel_11172\\437701404.py:1: DtypeWarning: Columns (1,12) have mixed types. Specify dtype option on import or set low_memory=False.\n",
      "  final = pd.read_csv(r'D:\\ethereum_blocks_data\\final.csv', error_bad_lines=False)\n"
     ]
    }
   ],
   "source": [
    "final = pd.read_csv(r'D:\\ethereum_blocks_data\\final.csv', error_bad_lines=False)"
   ]
  },
  {
   "cell_type": "code",
   "execution_count": 5,
   "id": "e7aeb07f",
   "metadata": {},
   "outputs": [],
   "source": [
    "final = final.drop(columns = ['Unnamed: 0']).dropna().reset_index(drop = True)"
   ]
  },
  {
   "cell_type": "code",
   "execution_count": 8,
   "id": "8b5c5767",
   "metadata": {},
   "outputs": [],
   "source": [
    "final.columns = ['block_number', 'block_timestamp', 'transactions_count', 'difficulty',\n",
    "                'total_difficulty', 'extra_data', 'gas_limit', 'gas_used', 'hash',\n",
    "                'parent_hash', 'miner', 'nonce', 'receipts_root', 'sha3_uncles', 'size']"
   ]
  },
  {
   "cell_type": "code",
   "execution_count": 17,
   "id": "dd530b14",
   "metadata": {},
   "outputs": [],
   "source": [
    "final = final.reset_index()"
   ]
  },
  {
   "cell_type": "code",
   "execution_count": 35,
   "id": "4552212d",
   "metadata": {},
   "outputs": [],
   "source": [
    "final['block_number'] = final['block_number'].astype('int64')\n",
    "final['block_timestamp'] = pd.to_datetime(final['block_timestamp'])"
   ]
  },
  {
   "cell_type": "code",
   "execution_count": 39,
   "id": "28d77d46",
   "metadata": {},
   "outputs": [],
   "source": [
    "final.to_csv(r'D:\\ethereum_blocks_data\\final_1.csv')"
   ]
  }
 ],
 "metadata": {
  "kernelspec": {
   "display_name": "Python 3 (ipykernel)",
   "language": "python",
   "name": "python3"
  },
  "language_info": {
   "codemirror_mode": {
    "name": "ipython",
    "version": 3
   },
   "file_extension": ".py",
   "mimetype": "text/x-python",
   "name": "python",
   "nbconvert_exporter": "python",
   "pygments_lexer": "ipython3",
   "version": "3.9.12"
  }
 },
 "nbformat": 4,
 "nbformat_minor": 5
}
